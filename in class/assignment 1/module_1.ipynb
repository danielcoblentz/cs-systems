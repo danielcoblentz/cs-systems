{
  "cells": [
    {
      "cell_type": "markdown",
      "metadata": {
        "id": "view-in-github"
      },
      "source": [
        "<a href=\"https://colab.research.google.com/github/adong-hood/dm-24/blob/main/module_1.ipynb\" target=\"_parent\"><img src=\"https://colab.research.google.com/assets/colab-badge.svg\" alt=\"Open In Colab\"/></a>"
      ]
    },
    {
      "cell_type": "markdown",
      "metadata": {
        "id": "GlgpLAo2hAL6"
      },
      "source": [
        "# Module 1: Introduction to Python\n",
        "\n",
        "Python is a high-level programming language with extensive libraries available to perform various data analysis tasks.\n",
        "The following tutorial contains examples of using various data types, functions, and library modules available in the standard Python library. The notebook can be downloaded from http://www.cse.msu.edu/~ptan/dmbook/tutorials/tutorial1/tutorial1.ipynb. Read the step-by-step instructions below carefully. To execute the code, click on each cell below and press the SHIFT-ENTER keys simultaneously.\n",
        "\n",
        "We begin with some basic information about Python:\n",
        "1. Python is an interpreted language, unlike other high-level programming languages such as C or C++. You only need to submit your Python program to an interpreter for execution, without having to explicitly compile and link the code first.\n",
        "\n",
        "2. Python is a dynamically typed language, which means variable names are bound to their respective types during execution time. You do not have to explicitly declare the type of a variable before using it in the code unlike Java, C++, and other statically-typed languages.\n",
        "\n",
        "3. Instead of using braces '{' and '}', Python uses whitespace indentation to group together related statements in loops or other control-flow statements.\n",
        "\n",
        "4. Python uses the hash character ('#') to precede single-line comments. Triple-quoted strings (''') are commonly used to denote multi-line comments (even though it is not part of the standard Python language) or docstring of functions.\n",
        "\n",
        "5. Python uses pass by reference (instead of pass by value) when assigning a variable to another (e.g., a = b) or when passing an object as input argument to a function. Thus, any modification to the assigned variable or to the input argument within the function will affect the original object.  \n",
        "\n",
        "6. Python uses `None` to denote a null object (e.g., a = None). You do not have to terminate each statement with a terminating character (such as a semicolon) unlike other languages.\n",
        "\n",
        "7. You may access the variables or functions defined in another Python program file using the `import` command. This is analogous to the `import` command in Java or the `#include` command in C or C++."
      ]
    },
    {
      "cell_type": "code",
      "source": [],
      "metadata": {
        "id": "En9dT8Ft8hu9"
      },
      "execution_count": 1,
      "outputs": []
    },
    {
      "cell_type": "markdown",
      "source": [
        "The very first thing, let's demo how to mount your google drive."
      ],
      "metadata": {
        "id": "YAX0k308kibo"
      }
    },
    {
      "cell_type": "code",
      "source": [
        "from google.colab import drive\n",
        "drive.mount('/content/drive')"
      ],
      "metadata": {
        "colab": {
          "base_uri": "https://localhost:8080/"
        },
        "id": "8Ej3YEkQkhkL",
        "outputId": "820b775a-3130-44b7-a388-4869917ad483"
      },
      "execution_count": 2,
      "outputs": [
        {
          "output_type": "stream",
          "name": "stdout",
          "text": [
            "Mounted at /content/drive\n"
          ]
        }
      ]
    },
    {
      "cell_type": "markdown",
      "metadata": {
        "id": "ld9FiN3fhAMA"
      },
      "source": [
        "## 1.1 Elementary Data Types\n",
        "\n",
        "The standard Python library provides support for various elementary data types, including including integers, booleans, floating points, and strings. A summary of the data types is shown in the table below.\n",
        "\n",
        "| &nbsp;  |      Data Type    |   Example   |\n",
        "|:--------|:-----------------:|:------------|\n",
        "|Number   | Integer           | x = 4       |\n",
        "| &nbsp;  | Long integer      | x = 15L     |\n",
        "| &nbsp;  | Floating point    | x = 3.142   |\n",
        "| &nbsp;  | Boolean           | x = True    |\n",
        "|Text     | Character         | x = 'c'     |\n",
        "| &nbsp;  | String            | x = \"this\" or x = 'this' |"
      ]
    },
    {
      "cell_type": "code",
      "execution_count": 3,
      "metadata": {
        "id": "B1JKyOYBhAMB",
        "colab": {
          "base_uri": "https://localhost:8080/"
        },
        "outputId": "51d5e180-52f2-442a-ef31-153e9e7684d2"
      },
      "outputs": [
        {
          "output_type": "stream",
          "name": "stdout",
          "text": [
            "4 <class 'int'>\n",
            "True <class 'bool'>\n",
            "3.7 <class 'float'>\n",
            "This is a string <class 'str'>\n"
          ]
        }
      ],
      "source": [
        "x = 4              # integer\n",
        "print(x, type(x))\n",
        "\n",
        "y = True           # boolean (True, False)\n",
        "print(y, type(y))\n",
        "\n",
        "z = 3.7            # floating point\n",
        "print(z, type(z))\n",
        "\n",
        "s = \"This is a string\"    # string\n",
        "print(s, type(s))"
      ]
    },
    {
      "cell_type": "markdown",
      "metadata": {
        "id": "_kLqjtYZhAMC"
      },
      "source": [
        "The following are some of the arithmetic operations available for manipulating integers and floating point numbers"
      ]
    },
    {
      "cell_type": "code",
      "execution_count": 4,
      "metadata": {
        "id": "xs3iEIDLhAMC",
        "colab": {
          "base_uri": "https://localhost:8080/"
        },
        "outputId": "175e54d1-46ec-464a-cb44-9896e09c42f2"
      },
      "outputs": [
        {
          "output_type": "stream",
          "name": "stdout",
          "text": [
            "18 8 12 6 18 2\n",
            "3.7 1.7000000000000002 1.2333333333333334 1.0 13.690000000000001\n",
            "3.7 13.690000000000001 4 3\n"
          ]
        }
      ],
      "source": [
        "x = 4            # integer\n",
        "x1 = x + 4       # addition\n",
        "x2 = x * 3       # multiplication\n",
        "x += 2           # equivalent to x = x + 2\n",
        "x3 = x\n",
        "x *= 3           # equivalent to x = x * 3\n",
        "x4 = x\n",
        "x5 = x % 4       # modulo (remainder) operator\n",
        "\n",
        "z = 3.7          # floating point number\n",
        "z1 = z - 2       # subtraction\n",
        "z2 = z / 3       # division\n",
        "z3 = z // 3      # integer division\n",
        "z4 = z ** 2      # square of z\n",
        "z5 = z4 ** 0.5   # square root\n",
        "z6 = pow(z,2)    # equivalent to square of z\n",
        "z7 = round(z)    # rounding z to its nearest integer\n",
        "z8 = int(z)      # type casting float to int\n",
        "\n",
        "print(x,x1,x2,x3,x4,x5)\n",
        "print(z,z1,z2,z3,z4)\n",
        "print(z5,z6,z7,z8)"
      ]
    },
    {
      "cell_type": "markdown",
      "metadata": {
        "id": "fEhVa2YChAMC"
      },
      "source": [
        "The following are some of the functions provided by the math module for integers and floating point numbers"
      ]
    },
    {
      "cell_type": "code",
      "execution_count": 5,
      "metadata": {
        "scrolled": true,
        "id": "629Lo6SchAMC",
        "colab": {
          "base_uri": "https://localhost:8080/"
        },
        "outputId": "9bde3819-dbd7-438d-fbf7-1cff1fc544ec"
      },
      "outputs": [
        {
          "output_type": "stream",
          "name": "stdout",
          "text": [
            "2.0\n",
            "16.0\n",
            "54.598150033144236\n",
            "2.0\n",
            "4.0\n",
            "24\n",
            "1\n",
            "0\n",
            "0\n",
            "3.6739403974420594e-16\n",
            "0.9999999869751758\n",
            "True\n",
            "True\n"
          ]
        }
      ],
      "source": [
        "import math\n",
        "\n",
        "x = 4\n",
        "print(math.sqrt(x))      # sqrt(4) = 2\n",
        "print(math.pow(x,2))     # 4**2 = 16\n",
        "print(math.exp(x))       # exp(4) = 54.6\n",
        "print(math.log(x,2))     # log based 2  (default is natural logarithm)\n",
        "print(math.fabs(-4))     # absolute value\n",
        "print(math.factorial(x)) # 4! = 4 x 3 x 2 x 1 = 24\n",
        "\n",
        "z = 0.2\n",
        "print(math.ceil(z))      # ceiling function\n",
        "print(math.floor(z))     # floor function\n",
        "print(math.trunc(z))     # truncate function\n",
        "\n",
        "z = 3*math.pi            # math.pi = 3.141592653589793\n",
        "print(math.sin(z))       # sine function\n",
        "print(math.tanh(z))      # arctan function\n",
        "\n",
        "x = math.nan             # not a number\n",
        "print(math.isnan(x))\n",
        "\n",
        "x = math.inf             # infinity\n",
        "print(math.isinf(x))"
      ]
    },
    {
      "cell_type": "markdown",
      "metadata": {
        "collapsed": true,
        "id": "KMWVlWBLhAMC"
      },
      "source": [
        "The following are some of the logical operations available for booleans"
      ]
    },
    {
      "cell_type": "code",
      "execution_count": 6,
      "metadata": {
        "id": "XVWUyLE-hAMD",
        "colab": {
          "base_uri": "https://localhost:8080/"
        },
        "outputId": "113a7e66-a3db-4038-cddc-f63fad3b7aa9"
      },
      "outputs": [
        {
          "output_type": "stream",
          "name": "stdout",
          "text": [
            "False\n",
            "True\n",
            "True\n"
          ]
        }
      ],
      "source": [
        "y1 = True\n",
        "y2 = False\n",
        "\n",
        "print(y1 and y2)       # logical AND\n",
        "print(y1 or y2)        # logical OR\n",
        "print(y1 and not y2)   # logical NOT"
      ]
    },
    {
      "cell_type": "markdown",
      "metadata": {
        "id": "ZZSakEUYhAMD"
      },
      "source": [
        "The following are some of the operations and functions for manipulating strings"
      ]
    },
    {
      "cell_type": "code",
      "execution_count": 7,
      "metadata": {
        "id": "_02IydAIhAMD",
        "colab": {
          "base_uri": "https://localhost:8080/"
        },
        "outputId": "563944c6-6447-4027-a79c-590f8b8f3347"
      },
      "outputs": [
        {
          "output_type": "stream",
          "name": "stdout",
          "text": [
            "his\n",
            "4\n",
            "Length of string is 4\n",
            "THIS\n",
            "this\n",
            "This\n",
            "This is another string\n",
            "That at a string\n",
            "8\n",
            "True\n",
            "True\n",
            "False\n",
            "This is a string too\n",
            "This This This \n"
          ]
        }
      ],
      "source": [
        "s1 = \"This\"\n",
        "\n",
        "print(s1[1:])                    # print last three characters\n",
        "print(len(s1))                               # get the string length\n",
        "print(\"Length of string is \" + str(len(s1))) # type casting int to str\n",
        "print(s1.upper())                            # convert to upper case\n",
        "print(s1.lower())                            # convert to lower case\n",
        "\n",
        "s2 = \"This is a string\"\n",
        "words = s2.split(' ')             # split the string into words\n",
        "print(words[0])\n",
        "print(s2.replace('a','another'))  # replace \"a\" with \"another\"\n",
        "print(s2.replace('is','at'))      # replace \"is\" with \"at\"\n",
        "print(s2.find(\"a\"))               # find the position of \"a\" in s2\n",
        "print(s1 in s2)                   # check if s1 is a substring of s2\n",
        "\n",
        "print(s1 == 'This')               # equality comparison\n",
        "print(s1 < 'That')                # inequality comparison\n",
        "print(s2 + \" too\")                # string concatenation\n",
        "print((s1 + \" \")* 3)              # replicate the string 3 times"
      ]
    },
    {
      "cell_type": "markdown",
      "metadata": {
        "id": "um8igl15hAMD"
      },
      "source": [
        "## 1.2 Compound Data Types\n",
        "\n",
        "The following examples show how to create and manipulate a **list** object"
      ]
    },
    {
      "cell_type": "code",
      "execution_count": 8,
      "metadata": {
        "id": "F-ErSK2PhAMD",
        "colab": {
          "base_uri": "https://localhost:8080/"
        },
        "outputId": "5dac0c5c-c7ff-4f34-be6d-b7beee4dae8f"
      },
      "outputs": [
        {
          "output_type": "stream",
          "name": "stdout",
          "text": [
            "<class 'list'>\n",
            "[1, 3, 5, 7, 9]\n",
            "[0, 2, 4, 6, 8]\n",
            "5\n",
            "[1, 3]\n",
            "[5, 7, 9]\n",
            "5\n",
            "25\n",
            "[1, 3, 5, 7, 9, 11]\n",
            "11\n",
            "[1, 3, 5, 7, 9]\n",
            "[1, 3, 5, 7, 9, 11, 13, 15]\n",
            "[1, 3, 5, 7, 9, 1, 3, 5, 7, 9, 1, 3, 5, 7, 9]\n",
            "[1, 3, 4, 5, 7, 9]\n",
            "[9, 7, 5, 4, 3, 1]\n"
          ]
        }
      ],
      "source": [
        "intlist = [1, 3, 5, 7, 9]\n",
        "print(type(intlist))\n",
        "print(intlist)\n",
        "intlist2 = list(range(0,10,2))   # range[startvalue, endvalue, stepsize]\n",
        "print(intlist2)\n",
        "\n",
        "print(intlist[2])                # get the third element of the list\n",
        "print(intlist[:2])               # get the first two elements\n",
        "print(intlist[2:])               # get the last three elements of the list\n",
        "print(len(intlist))              # get the number of elements in the list\n",
        "print(sum(intlist))              # sums up elements of the list\n",
        "\n",
        "intlist.append(11)               # insert 11 to end of the list\n",
        "print(intlist)\n",
        "print(intlist.pop())             # remove last element of the list\n",
        "print(intlist)\n",
        "print(intlist + [11,13,15])      # concatenate two lists\n",
        "print(intlist * 3)               # replicate the list\n",
        "intlist.insert(2,4)              # insert item 4 at index 2\n",
        "print(intlist)\n",
        "intlist.sort(reverse=True)       # sort elements in descending order\n",
        "print(intlist)"
      ]
    },
    {
      "cell_type": "code",
      "execution_count": 9,
      "metadata": {
        "id": "5njAmKRvhAME",
        "colab": {
          "base_uri": "https://localhost:8080/"
        },
        "outputId": "b8aa5da4-6d93-43b1-e649-00689746ec7f"
      },
      "outputs": [
        {
          "output_type": "stream",
          "name": "stdout",
          "text": [
            "['this', 'is', 'a', 'list']\n",
            "<class 'list'>\n",
            "True\n",
            "a\n",
            "['this', 'is']\n",
            "['a', 'list']\n",
            "this is a list too\n",
            "['this', 'a', 'list', 'too']\n"
          ]
        }
      ],
      "source": [
        "mylist = ['this', 'is', 'a', 'list']\n",
        "print(mylist)\n",
        "print(type(mylist))\n",
        "\n",
        "print(\"list\" in mylist)          # check whether \"list\" is in mylist\n",
        "print(mylist[2])                 # show the 3rd element of the list\n",
        "print(mylist[:2])                # show the first two elements of the list\n",
        "print(mylist[2:])                # show the last two elements of the list\n",
        "mylist.append(\"too\")             # insert element to end of the list\n",
        "\n",
        "separator = \" \"\n",
        "print(separator.join(mylist))    # merge all elements of the list into a string\n",
        "\n",
        "mylist.remove(\"is\")              # remove element from list\n",
        "print(mylist)"
      ]
    },
    {
      "cell_type": "markdown",
      "metadata": {
        "id": "NQuTzOEEhAME"
      },
      "source": [
        "The following examples show how to create and manipulate a **dictionary** object"
      ]
    },
    {
      "cell_type": "code",
      "execution_count": 10,
      "metadata": {
        "id": "T_E7HlBjhAME",
        "colab": {
          "base_uri": "https://localhost:8080/"
        },
        "outputId": "c51efc56-7d24-48b8-d9e1-4a8f7a0772c8"
      },
      "outputs": [
        {
          "output_type": "stream",
          "name": "stdout",
          "text": [
            "{'MI': 'Michigan', 'MN': 'Minnesota', 'TX': 'Texas', 'CA': 'California'}\n",
            "dict_keys(['MI', 'MN', 'TX', 'CA'])\n",
            "dict_values(['Michigan', 'Minnesota', 'Texas', 'California'])\n",
            "4\n",
            "Michigan\n",
            "False\n",
            "True\n",
            "{'apples': 3, 'oranges': 4, 'bananas': 2, 'cherries': 10}\n",
            "['apples', 'bananas', 'cherries', 'oranges']\n",
            "[('apples', 3), ('bananas', 2), ('cherries', 10), ('oranges', 4)]\n",
            "[('bananas', 2), ('apples', 3), ('oranges', 4), ('cherries', 10)]\n"
          ]
        }
      ],
      "source": [
        "abbrev = {}\n",
        "abbrev['MI'] = \"Michigan\"\n",
        "abbrev['MN'] = \"Minnesota\"\n",
        "abbrev['TX'] = \"Texas\"\n",
        "abbrev['CA'] = \"California\"\n",
        "\n",
        "print(abbrev)\n",
        "print(abbrev.keys())            # get the keys of the dictionary\n",
        "print(abbrev.values())          # get the values of the dictionary\n",
        "print(len(abbrev))              # get number of key-value pairs\n",
        "\n",
        "print(abbrev.get('MI'))\n",
        "print(\"FL\" in abbrev)\n",
        "print(\"CA\" in abbrev)\n",
        "\n",
        "keys = ['apples', 'oranges', 'bananas', 'cherries']\n",
        "values = [3, 4, 2, 10]\n",
        "fruits = dict(zip(keys, values))\n",
        "print(fruits)\n",
        "print(sorted(fruits))     # sort keys of dictionary\n",
        "\n",
        "from operator import itemgetter\n",
        "print(sorted(fruits.items(), key=itemgetter(0)))    # sort by key of dictionary\n",
        "print(sorted(fruits.items(), key=itemgetter(1)))    # sort by value of dictionary"
      ]
    },
    {
      "cell_type": "markdown",
      "metadata": {
        "id": "Ny8YmbvKhAME"
      },
      "source": [
        "The following examples show how to create and manipulate a **tuple** object. Unlike a list, a tuple object is immutable, i.e., they cannot be modified after creation."
      ]
    },
    {
      "cell_type": "code",
      "execution_count": 11,
      "metadata": {
        "id": "BqaVEdp0hAME",
        "colab": {
          "base_uri": "https://localhost:8080/"
        },
        "outputId": "6b13b067-30c1-4922-a3bc-9071ed8a400d"
      },
      "outputs": [
        {
          "output_type": "stream",
          "name": "stdout",
          "text": [
            "('MI', 'Michigan', 'Lansing')\n",
            "('Michigan', 'Lansing')\n",
            "[('MI', 'Michigan', 'Lansing'), ('CA', 'California', 'Sacramento'), ('TX', 'Texas', 'Austin')]\n",
            "('TX', 'Texas', 'Austin')\n",
            "('TX', 'Texas', 'Austin')\n",
            "('Texas', 'Austin')\n",
            "[('TX', 'Texas', 'Austin'), ('MI', 'Michigan', 'Lansing'), ('CA', 'California', 'Sacramento')]\n"
          ]
        }
      ],
      "source": [
        "MItuple = ('MI', 'Michigan', 'Lansing')\n",
        "CAtuple = ('CA', 'California', 'Sacramento')\n",
        "TXtuple = ('TX', 'Texas', 'Austin')\n",
        "\n",
        "print(MItuple)\n",
        "print(MItuple[1:])\n",
        "\n",
        "states = [MItuple, CAtuple, TXtuple]    # this will create a list of tuples\n",
        "print(states)\n",
        "print(states[2])\n",
        "print(states[2][:])\n",
        "print(states[2][1:])\n",
        "\n",
        "states.sort(key=lambda state: state[2])  # sort the states by their capital cities\n",
        "print(states)"
      ]
    },
    {
      "cell_type": "markdown",
      "source": [
        "The following examples show **list comprehension**."
      ],
      "metadata": {
        "id": "K054DysTqUmv"
      }
    },
    {
      "cell_type": "code",
      "source": [
        "cities = ['washington,ct', 'springfield,or', 'riverside,tx', 'franklin,vt', 'lebanon,co', 'dayton,tx', 'las vegas,nm', 'madison,ca', 'georgetown,ct', 'los angeles,tx']\n",
        "\n",
        "# Use list comprehension to produce a list of only the cities whose name (including the state name) are less than 12 characters long.\n",
        "short_cities = [city for city in cities if len(city) < 12]\n",
        "\n",
        "#Use list comprehension, to create a dictionary that maps city names to the states that they are located in\n",
        "city_names = [city.split(\",\")[0] for city in cities]\n",
        "city_states = [city.split(\",\")[1] for city in cities]\n",
        "city_dict = dict(zip(city_names, city_states))"
      ],
      "metadata": {
        "id": "prAKB0aYo4_o"
      },
      "execution_count": 12,
      "outputs": []
    },
    {
      "cell_type": "code",
      "source": [
        "cities = ['washington,ct', 'springfield,or', 'riverside,tx', 'franklin,vt', 'lebanon,co', 'dayton,tx', 'las vegas,nm', 'madison,ca', 'georgetown,ct', 'los angeles,tx']\n",
        "print(cities)"
      ],
      "metadata": {
        "colab": {
          "base_uri": "https://localhost:8080/"
        },
        "id": "AwDCZ6lpwl1u",
        "outputId": "83ea6b59-b0bb-4d43-9c1e-f42cf93d63ca"
      },
      "execution_count": 13,
      "outputs": [
        {
          "output_type": "stream",
          "name": "stdout",
          "text": [
            "['washington,ct', 'springfield,or', 'riverside,tx', 'franklin,vt', 'lebanon,co', 'dayton,tx', 'las vegas,nm', 'madison,ca', 'georgetown,ct', 'los angeles,tx']\n"
          ]
        }
      ]
    },
    {
      "cell_type": "code",
      "source": [
        "[city.split(\",\") for city in cities]"
      ],
      "metadata": {
        "id": "gLcHPZfCwrDu",
        "colab": {
          "base_uri": "https://localhost:8080/"
        },
        "outputId": "c960e084-7c36-483b-c5b7-3021f47dd335"
      },
      "execution_count": 14,
      "outputs": [
        {
          "output_type": "execute_result",
          "data": {
            "text/plain": [
              "[['washington', 'ct'],\n",
              " ['springfield', 'or'],\n",
              " ['riverside', 'tx'],\n",
              " ['franklin', 'vt'],\n",
              " ['lebanon', 'co'],\n",
              " ['dayton', 'tx'],\n",
              " ['las vegas', 'nm'],\n",
              " ['madison', 'ca'],\n",
              " ['georgetown', 'ct'],\n",
              " ['los angeles', 'tx']]"
            ]
          },
          "metadata": {},
          "execution_count": 14
        }
      ]
    },
    {
      "cell_type": "code",
      "source": [
        "[city.split(\",\")[0] for city in cities]"
      ],
      "metadata": {
        "id": "o_1CUJWkw7nf",
        "colab": {
          "base_uri": "https://localhost:8080/"
        },
        "outputId": "1e0da94a-7efe-4448-a017-fbe5b77c3017"
      },
      "execution_count": 15,
      "outputs": [
        {
          "output_type": "execute_result",
          "data": {
            "text/plain": [
              "['washington',\n",
              " 'springfield',\n",
              " 'riverside',\n",
              " 'franklin',\n",
              " 'lebanon',\n",
              " 'dayton',\n",
              " 'las vegas',\n",
              " 'madison',\n",
              " 'georgetown',\n",
              " 'los angeles']"
            ]
          },
          "metadata": {},
          "execution_count": 15
        }
      ]
    },
    {
      "cell_type": "code",
      "source": [
        "[city.split(\",\")[1] for city in cities]"
      ],
      "metadata": {
        "id": "wTz2WYQrxDwu",
        "colab": {
          "base_uri": "https://localhost:8080/"
        },
        "outputId": "b1069f58-9d28-4863-c32c-4f43c4b98cde"
      },
      "execution_count": 16,
      "outputs": [
        {
          "output_type": "execute_result",
          "data": {
            "text/plain": [
              "['ct', 'or', 'tx', 'vt', 'co', 'tx', 'nm', 'ca', 'ct', 'tx']"
            ]
          },
          "metadata": {},
          "execution_count": 16
        }
      ]
    },
    {
      "cell_type": "markdown",
      "metadata": {
        "id": "3YbM8sPKhAME"
      },
      "source": [
        "## 1.3 Control Flow Statements\n",
        "\n",
        "Similar to other programming languages, the control flow statements in Python include if, for, and while statements. Examples on how to use these statements are shown below."
      ]
    },
    {
      "cell_type": "code",
      "execution_count": 17,
      "metadata": {
        "id": "CFtvEgK1hAMF",
        "colab": {
          "base_uri": "https://localhost:8080/"
        },
        "outputId": "331e37f4-1cee-46db-9dc7-fac16a76c7b2"
      },
      "outputs": [
        {
          "output_type": "stream",
          "name": "stdout",
          "text": [
            "x = 10 is even\n",
            "x = 10 is positive\n"
          ]
        }
      ],
      "source": [
        "# using if-else statement\n",
        "\n",
        "x = 10\n",
        "\n",
        "if x % 2 == 0:\n",
        "    print(\"x =\", x, \"is even\")\n",
        "else:\n",
        "    print(\"x =\", x, \"is odd\")\n",
        "\n",
        "if x > 0:\n",
        "    print(\"x =\", x, \"is positive\")\n",
        "elif x < 0:\n",
        "    print(\"x =\", x, \"is negative\")\n",
        "else:\n",
        "    print(\"x =\", x, \"is neither positive nor negative\")"
      ]
    },
    {
      "cell_type": "code",
      "execution_count": 18,
      "metadata": {
        "id": "u1aHzh6YhAMF",
        "colab": {
          "base_uri": "https://localhost:8080/"
        },
        "outputId": "5e3aac62-f6f3-4d7b-fbc0-322fecd8ebba"
      },
      "outputs": [
        {
          "output_type": "stream",
          "name": "stdout",
          "text": [
            "that\n",
            "at\n",
            "a\n",
            "latt\n",
            "[4, 2, 1, 4]\n",
            "['Austin', 'Lansing', 'Sacramento']\n",
            "['apples', 'oranges', 'bananas', 'cherries']\n"
          ]
        }
      ],
      "source": [
        "# using for loop with a list\n",
        "\n",
        "mylist = ['this', 'is', 'a', 'list']\n",
        "for word in mylist:\n",
        "    print(word.replace(\"is\", \"at\"))\n",
        "\n",
        "mylist2 = [len(word) for word in mylist]   # number of characters in each word\n",
        "print(mylist2)\n",
        "\n",
        "# using for loop with list of tuples\n",
        "\n",
        "states = [('MI', 'Michigan', 'Lansing'),('CA', 'California', 'Sacramento'),\n",
        "          ('TX', 'Texas', 'Austin')]\n",
        "\n",
        "sorted_capitals = [state[2] for state in states]\n",
        "sorted_capitals.sort()\n",
        "print(sorted_capitals)\n",
        "\n",
        "# using for loop with dictionary\n",
        "\n",
        "fruits = {'apples': 3, 'oranges': 4, 'bananas': 2, 'cherries': 10}\n",
        "fruitnames = [k for (k,v) in fruits.items()]\n",
        "print(fruitnames)"
      ]
    },
    {
      "cell_type": "code",
      "execution_count": 19,
      "metadata": {
        "id": "huq3tx53hAMF",
        "colab": {
          "base_uri": "https://localhost:8080/"
        },
        "outputId": "d64a7982-1a94-4dd5-cea9-4c81138ad775"
      },
      "outputs": [
        {
          "output_type": "stream",
          "name": "stdout",
          "text": [
            "[-10, -9, -8, -7, -6, -5, -4, -3, -2, -1, 0, 1, 2, 3, 4, 5, 6, 7, 8, 9]\n",
            "First non-negative number: 0\n"
          ]
        }
      ],
      "source": [
        "# using while loop\n",
        "\n",
        "mylist = list(range(-10,10))\n",
        "print(mylist)\n",
        "\n",
        "i = 0\n",
        "while (mylist[i] < 0):\n",
        "    i = i + 1\n",
        "\n",
        "print(\"First non-negative number:\", mylist[i])\n"
      ]
    },
    {
      "cell_type": "markdown",
      "metadata": {
        "id": "RJ0T9ucYhAMF"
      },
      "source": [
        "## 1.4 User-Defined Functions\n",
        "\n",
        "You can create your own functions in Python, which can be named or unnamed. Unnamed functions are defined using the lambda keyword as shown in the previous example for sorting a list of tuples."
      ]
    },
    {
      "cell_type": "code",
      "execution_count": 20,
      "metadata": {
        "id": "fpCI5GDvhAMF",
        "colab": {
          "base_uri": "https://localhost:8080/"
        },
        "outputId": "6d36afe7-9069-428f-dee9-3fe7c39be7dd"
      },
      "outputs": [
        {
          "output_type": "stream",
          "name": "stdout",
          "text": [
            "11\n"
          ]
        }
      ],
      "source": [
        "myfunc = lambda x: 3*x**2 - 2*x + 3      # example of an unnamed quadratic function\n",
        "\n",
        "print(myfunc(2))"
      ]
    },
    {
      "cell_type": "code",
      "execution_count": 21,
      "metadata": {
        "id": "P_tlxJ9xhAMF",
        "colab": {
          "base_uri": "https://localhost:8080/"
        },
        "outputId": "57663540-54e2-40dd-ed2d-6d46dc85aea3"
      },
      "outputs": [
        {
          "output_type": "stream",
          "name": "stdout",
          "text": [
            "[-11, 12, 23, 45, 71]\n"
          ]
        }
      ],
      "source": [
        "import math\n",
        "\n",
        "# The following function will discard missing values from a list\n",
        "def discard(inlist, sortFlag=False):    # default value for sortFlag is False\n",
        "    outlist = []\n",
        "    for item in inlist:\n",
        "        if not math.isnan(item):\n",
        "            outlist.append(item)\n",
        "\n",
        "    if sortFlag:\n",
        "        outlist.sort()\n",
        "    return outlist\n",
        "\n",
        "mylist = [12, math.nan, 23, -11, 45, math.nan, 71]\n",
        "\n",
        "print(discard(mylist,True))"
      ]
    },
    {
      "cell_type": "markdown",
      "metadata": {
        "id": "j8kPjoKChAMF"
      },
      "source": [
        "## 1.5 File I/O\n",
        "\n",
        "You can read and write data from a list or other objects to a file."
      ]
    },
    {
      "cell_type": "code",
      "execution_count": 22,
      "metadata": {
        "id": "BalNQuKzhAMG",
        "colab": {
          "base_uri": "https://localhost:8080/"
        },
        "outputId": "33f9c70b-59cc-4575-d659-4233dd4a4605"
      },
      "outputs": [
        {
          "output_type": "stream",
          "name": "stdout",
          "text": [
            "State= Michigan ( MI ) Capital: Lansing\n",
            "\n",
            "State= California ( CA ) Capital: Sacramento\n",
            "\n",
            "State= Texas ( TX ) Capital: Austin\n",
            "\n",
            "State= Minnesota ( MN ) Capital: St Paul\n"
          ]
        }
      ],
      "source": [
        "states = [('MI', 'Michigan', 'Lansing'),('CA', 'California', 'Sacramento'),\n",
        "          ('TX', 'Texas', 'Austin'), ('MN', 'Minnesota', 'St Paul')]\n",
        "\n",
        "with open('states.txt', 'w') as f:\n",
        "    f.write('\\n'.join('%s,%s,%s' % state for state in states))\n",
        "\n",
        "with open('states.txt', 'r') as f:\n",
        "    for line in f:\n",
        "        fields = line.split(sep=',')    # split each line into its respective fields\n",
        "        print('State=',fields[1],'(',fields[0],')','Capital:', fields[2])"
      ]
    },
    {
      "cell_type": "markdown",
      "source": [],
      "metadata": {
        "id": "6Gxp_p9fmEso"
      }
    },
    {
      "cell_type": "markdown",
      "source": [
        "## 1.7 Exercises"
      ],
      "metadata": {
        "id": "SoWoOuCulOvl"
      }
    },
    {
      "cell_type": "markdown",
      "source": [
        "1.<pre>\n",
        "my_var = 3\n",
        "my_var = \"foo\"\n",
        "my_var = len  \n",
        "</pre>\n",
        "Explain this above code is allowed to not allowed? What is the typy of my_var at the very end?"
      ],
      "metadata": {
        "id": "OUeCX1XUlVX6"
      }
    },
    {
      "cell_type": "markdown",
      "source": [
        "In Python, variables don’t have fixed types, so I can reassign them to different kinds of values. Additionally 'my_var' refers to the function len so its type will be a built-in function."
      ],
      "metadata": {
        "id": "bqrck-nFr4WM"
      }
    },
    {
      "cell_type": "markdown",
      "source": [
        "2. Write a Python function named double_plus_y that takes two arguments, x and y. The function should return the value of 2 * x + y. If the second argument y is not provided when the function is called, it should default to 4.\n",
        "\n",
        "Below is the testing code.\n",
        "\n",
        "<pre>\n",
        "for value in map(double_plus_y, [1,2,3,4]):\n",
        "    print(value)\n",
        "</pre>"
      ],
      "metadata": {
        "id": "R5vsidr2mAJf"
      }
    },
    {
      "cell_type": "code",
      "source": [
        "def double_plus_y(x, y=4):\n",
        "    return 2 * x + y\n",
        "for value in map(double_plus_y, [1,2,3,4]):\n",
        "    print(value)"
      ],
      "metadata": {
        "id": "KL18MiDCSmLG",
        "colab": {
          "base_uri": "https://localhost:8080/"
        },
        "outputId": "28ab24ca-21db-4b2d-b420-ea5683ddb9cf"
      },
      "execution_count": 27,
      "outputs": [
        {
          "output_type": "stream",
          "name": "stdout",
          "text": [
            "6\n",
            "8\n",
            "10\n",
            "12\n"
          ]
        }
      ]
    },
    {
      "cell_type": "markdown",
      "source": [
        "**Use list comphresion Questions 3-4 from this point on.** No loop."
      ],
      "metadata": {
        "id": "3ob8lCB_nXm0"
      }
    },
    {
      "cell_type": "code",
      "source": [
        "hogwarts_emails = ['weasley6@hogwarts.edu',\n",
        "    'hpotter@gmail.com',\n",
        "    'hgranger@gmail.com',\n",
        "    'longbott@hogwarts.edu',\n",
        "    'dmalfoy@hogwarts.edu',\n",
        "    'dthomas@gmail.com',\n",
        "    'ppatil@hogwarts.edu',\n",
        "    'lunalovegood@quibbler.com'\n",
        "]"
      ],
      "metadata": {
        "id": "l80LQCSKqhBn"
      },
      "execution_count": 24,
      "outputs": []
    },
    {
      "cell_type": "markdown",
      "source": [
        "3.  Hogwarts staff want to use the first part of each email as a username. **Make a list of these usernames**."
      ],
      "metadata": {
        "id": "wa9qh8QyqljM"
      }
    },
    {
      "cell_type": "code",
      "source": [
        "res = [email.split(\"@\")[0] for email in hogwarts_emails]\n",
        "res"
      ],
      "metadata": {
        "id": "lW_TehYHq2Cc",
        "colab": {
          "base_uri": "https://localhost:8080/"
        },
        "outputId": "25ec280b-25bc-4330-ee41-0eb4cce51596"
      },
      "execution_count": 25,
      "outputs": [
        {
          "output_type": "execute_result",
          "data": {
            "text/plain": [
              "['weasley6',\n",
              " 'hpotter',\n",
              " 'hgranger',\n",
              " 'longbott',\n",
              " 'dmalfoy',\n",
              " 'dthomas',\n",
              " 'ppatil',\n",
              " 'lunalovegood']"
            ]
          },
          "metadata": {},
          "execution_count": 25
        }
      ]
    },
    {
      "cell_type": "markdown",
      "source": [
        "4. Let's make a dictionary **where the keys are the usernames and the values are email addresses**"
      ],
      "metadata": {
        "id": "BpebfDkbq2cG"
      }
    },
    {
      "cell_type": "code",
      "source": [
        "email_dict = {email.split(\"@\")[0]: email for email in hogwarts_emails}\n",
        "\n",
        "print(email_dict)"
      ],
      "metadata": {
        "id": "98Vydk_Ir3QA",
        "colab": {
          "base_uri": "https://localhost:8080/"
        },
        "outputId": "46a00a62-78ef-4ae3-ab97-b1b5b5fac345"
      },
      "execution_count": 28,
      "outputs": [
        {
          "output_type": "stream",
          "name": "stdout",
          "text": [
            "{'weasley6': 'weasley6@hogwarts.edu', 'hpotter': 'hpotter@gmail.com', 'hgranger': 'hgranger@gmail.com', 'longbott': 'longbott@hogwarts.edu', 'dmalfoy': 'dmalfoy@hogwarts.edu', 'dthomas': 'dthomas@gmail.com', 'ppatil': 'ppatil@hogwarts.edu', 'lunalovegood': 'lunalovegood@quibbler.com'}\n"
          ]
        }
      ]
    },
    {
      "cell_type": "markdown",
      "source": [],
      "metadata": {
        "id": "tSh8VLDNSz9l"
      }
    },
    {
      "cell_type": "markdown",
      "source": [
        "5. To read a file, we use the `open` function. Using `with` avoids having to remember to close the file. The file path depends on your google drive folder structure. Write python code to find how many countries will be visited."
      ],
      "metadata": {
        "id": "doVkrB_hr30X"
      }
    },
    {
      "cell_type": "code",
      "source": [
        "with open('/content/drive/MyDrive/datamining/travel.txt', 'r') as md:\n",
        "    for line in md:\n",
        "        print(line)"
      ],
      "metadata": {
        "colab": {
          "base_uri": "https://localhost:8080/"
        },
        "id": "wtnl-0v0r-bp",
        "outputId": "39bf4d68-13c8-4dc3-ac2a-76199c903fb5"
      },
      "execution_count": 29,
      "outputs": [
        {
          "output_type": "stream",
          "name": "stdout",
          "text": [
            "This summer I will be travelling.\n",
            "\n",
            "I will go to...\n",
            "\n",
            "Italy: Rome\n",
            "\n",
            "Greece: Athens\n",
            "\n",
            "England: London, Manchester\n",
            "\n",
            "France: Paris, Nice, Lyon\n",
            "\n",
            "Spain: Madrid, Barcelona, Granada\n",
            "\n",
            "Austria: Vienna\n",
            "\n",
            "I will probably not even want to come back!\n",
            "\n",
            "However, I wonder how I will get by with all the different languages.\n",
            "\n",
            "I only know English!\n"
          ]
        }
      ]
    },
    {
      "cell_type": "code",
      "source": [
        "count = 0\n",
        "with open('/content/drive/MyDrive/datamining/travel.txt', 'r') as md:\n",
        "    for line in md:\n",
        "        if \":\" in line:\n",
        "            count += 1\n",
        "\n",
        "print(\"number of countries to be visited:\", count)\n",
        "\n"
      ],
      "metadata": {
        "id": "XUmkJ-Qr8lTt",
        "collapsed": true,
        "colab": {
          "base_uri": "https://localhost:8080/"
        },
        "outputId": "66c8e862-33f6-4137-d24f-2ffebfb2741d"
      },
      "execution_count": 31,
      "outputs": [
        {
          "output_type": "stream",
          "name": "stdout",
          "text": [
            "number of countries to be visited: 6\n"
          ]
        }
      ]
    }
  ],
  "metadata": {
    "kernelspec": {
      "display_name": "Python 3",
      "language": "python",
      "name": "python3"
    },
    "language_info": {
      "codemirror_mode": {
        "name": "ipython",
        "version": 3
      },
      "file_extension": ".py",
      "mimetype": "text/x-python",
      "name": "python",
      "nbconvert_exporter": "python",
      "pygments_lexer": "ipython3",
      "version": "3.7.1"
    },
    "colab": {
      "provenance": []
    }
  },
  "nbformat": 4,
  "nbformat_minor": 0
}